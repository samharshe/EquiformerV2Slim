{
 "cells": [
  {
   "cell_type": "code",
   "execution_count": 11,
   "metadata": {},
   "outputs": [],
   "source": [
    "import torch\n",
    "from nets.equiformer_v2 import EquiformerV2"
   ]
  },
  {
   "cell_type": "code",
   "execution_count": 12,
   "metadata": {},
   "outputs": [
    {
     "data": {
      "text/plain": [
       "<All keys matched successfully>"
      ]
     },
     "execution_count": 12,
     "metadata": {},
     "output_type": "execute_result"
    }
   ],
   "source": [
    "model = EquiformerV2(use_pbc=True,\n",
    "                            regress_forces=True,\n",
    "                            otf_graph=True,\n",
    "                            max_neighbors=20,\n",
    "                            max_radius=12.0,\n",
    "                            max_num_elements=90,\n",
    "                            num_layers=20,\n",
    "                            sphere_channels=128,\n",
    "                            attn_hidden_channels=64,\n",
    "                            num_heads=8,\n",
    "                            attn_alpha_channels=64,\n",
    "                            attn_value_channels=16,\n",
    "                            ffn_hidden_channels=128,\n",
    "                            norm_type='layer_norm_sh',\n",
    "                            lmax_list=[6],\n",
    "                            mmax_list=[3],\n",
    "                            grid_resolution=18,\n",
    "                            num_sphere_samples=128,\n",
    "                            edge_channels=128,\n",
    "                            use_atom_edge_embedding=True,\n",
    "                            share_atom_edge_embedding=False,\n",
    "                            distance_function='gaussian',\n",
    "                            num_distance_basis=512,\n",
    "                            attn_activation='silu',\n",
    "                            use_s2_act_attn=False,\n",
    "                            use_attn_renorm=True,\n",
    "                            ffn_activation='silu',\n",
    "                            use_gate_act=False,\n",
    "                            use_grid_mlp=True,\n",
    "                            use_sep_s2_act=True,\n",
    "                            alpha_drop=0.1,\n",
    "                            drop_path_rate=0.1,\n",
    "                            proj_drop=0.0,\n",
    "                            weight_init='uniform') # all taken from oc20/configs/s2ef/all_md/equiformer_v2/equiformer_v2_N@20_L@6_M@3_153M.yml\n",
    "\n",
    "state_dict = {key.replace('module.module.', ''): value for key, value in torch.load('weights/eq2_153M_ec4_allmd.pt', map_location=torch.device('cpu'))['state_dict'].items()}\n",
    "model.load_state_dict(state_dict)"
   ]
  }
 ],
 "metadata": {
  "kernelspec": {
   "display_name": "GDL",
   "language": "python",
   "name": "python3"
  },
  "language_info": {
   "codemirror_mode": {
    "name": "ipython",
    "version": 3
   },
   "file_extension": ".py",
   "mimetype": "text/x-python",
   "name": "python",
   "nbconvert_exporter": "python",
   "pygments_lexer": "ipython3",
   "version": "3.11.9"
  }
 },
 "nbformat": 4,
 "nbformat_minor": 2
}
